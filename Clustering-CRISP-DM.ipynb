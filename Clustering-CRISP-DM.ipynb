{
 "cells": [
  {
   "cell_type": "markdown",
   "metadata": {},
   "source": [
    "Prompt:This dataset contains records about mall customers. My objective is to build a model that clusters these customers using the features available in the dataset. follow the CRISP-DM model (Cross-industry standard process for data mining) to perform the task broken down into the following steps; Business Understanding, Data Understanding, Data Preparation, Modeling, and Evaluation.\n",
    "\n",
    "ChatGPt-4: Let's start by following the CRISP-DM model for your task of clustering mall customers based on the dataset provided.\n",
    "\n",
    "1. Business Understanding\n",
    "The goal here is to segment the mall customers into different clusters based on their characteristics. This can help in understanding customer behavior, targeting marketing strategies more effectively, and improving customer service. Clustering can identify distinct groups in the data based on similarities, and these insights can be used to tailor products, services, and promotions to different customer segments.\n",
    "\n",
    "Do you want me to proceed to the Data Understanding phase?\n",
    "\n",
    "Prompt: Yes"
   ]
  },
  {
   "cell_type": "code",
   "execution_count": 2,
   "metadata": {},
   "outputs": [
    {
     "data": {
      "text/plain": [
       "(   CustomerID  Gender  Age  Annual Income (k$)  Spending Score (1-100)\n",
       " 0           1    Male   19                  15                      39\n",
       " 1           2    Male   21                  15                      81\n",
       " 2           3  Female   20                  16                       6\n",
       " 3           4  Female   23                  16                      77\n",
       " 4           5  Female   31                  17                      40,\n",
       " CustomerID                0\n",
       " Gender                    0\n",
       " Age                       0\n",
       " Annual Income (k$)        0\n",
       " Spending Score (1-100)    0\n",
       " dtype: int64,\n",
       " CustomerID                 int64\n",
       " Gender                    object\n",
       " Age                        int64\n",
       " Annual Income (k$)         int64\n",
       " Spending Score (1-100)     int64\n",
       " dtype: object)"
      ]
     },
     "execution_count": 2,
     "metadata": {},
     "output_type": "execute_result"
    }
   ],
   "source": [
    "import pandas as pd\n",
    "\n",
    "# Load the dataset\n",
    "data_path = r\"C:\\Users\\youse\\OneDrive - NOVAIMS\\Thsis kick off\\datasets\\Clustering\\Mall_Customers.csv\"\n",
    "mall_customers = pd.read_csv(data_path)\n",
    "\n",
    "# Display the first few rows of the dataset\n",
    "initial_insight = mall_customers.head()\n",
    "\n",
    "# Check for missing values and data types\n",
    "missing_values = mall_customers.isnull().sum()\n",
    "data_types = mall_customers.dtypes\n",
    "\n",
    "initial_insight, missing_values, data_types\n"
   ]
  },
  {
   "cell_type": "markdown",
   "metadata": {},
   "source": [
    "2. Data Understanding\n",
    "In this phase, we'll start by loading and examining the dataset to understand the features available, check for missing values, and get a preliminary sense of the data structure. This will help us identify which features might be relevant for clustering the mall customers.\n",
    "\n",
    "Let's load the dataset and take a look at the first few rows, the data types of each column, and check for any missing values.\n",
    "\n",
    "I'll proceed with this step now.\n",
    "\n",
    "The dataset contains the following columns:\n",
    "\n",
    "CustomerID: An identifier for the customer (integer)\n",
    "Gender: The customer's gender (Male/Female)\n",
    "Age: The age of the customer (integer)\n",
    "Annual Income (k$): The customer's annual income in thousand dollars (integer)\n",
    "Spending Score (1-100): A score assigned by the mall based on customer behavior and spending nature (integer)\n",
    "There are no missing values in the dataset, which simplifies the data preparation phase. The data types appear to be appropriate for each column, with Gender being the only non-numeric column, which may need encoding if used in the clustering model.\n",
    "\n",
    "Do you want me to proceed to the Data Preparation phase?\n",
    "\n",
    "Prompt: Yes.\n",
    "\n",
    "ChatGPT-4:\n",
    "GPT\n",
    "3. Data Preparation\n",
    "In this phase, we'll prepare the data for modeling. This involves steps such as:\n",
    "\n",
    "Encoding categorical variables if necessary.\n",
    "Scaling the data, since clustering algorithms like K-Means are sensitive to the scale of the data.\n",
    "Deciding which features to include in the model.\n",
    "Given the dataset, we might consider encoding the Gender variable into a numeric format and scaling all numeric features to ensure they contribute equally to the distance computations in clustering.\n",
    "\n",
    "Let's perform these steps:\n",
    "\n",
    "Encode the Gender variable as binary (0 and 1).\n",
    "Scale the numeric features (Age, Annual Income (k$), and Spending Score (1-100)).\n",
    "I'll proceed with encoding and scaling now. Do you agree with these steps?\n",
    "\n",
    "Prompt: Yes.\n",
    "\n"
   ]
  },
  {
   "cell_type": "code",
   "execution_count": 3,
   "metadata": {},
   "outputs": [
    {
     "data": {
      "text/html": [
       "<div>\n",
       "<style scoped>\n",
       "    .dataframe tbody tr th:only-of-type {\n",
       "        vertical-align: middle;\n",
       "    }\n",
       "\n",
       "    .dataframe tbody tr th {\n",
       "        vertical-align: top;\n",
       "    }\n",
       "\n",
       "    .dataframe thead th {\n",
       "        text-align: right;\n",
       "    }\n",
       "</style>\n",
       "<table border=\"1\" class=\"dataframe\">\n",
       "  <thead>\n",
       "    <tr style=\"text-align: right;\">\n",
       "      <th></th>\n",
       "      <th>CustomerID</th>\n",
       "      <th>Gender</th>\n",
       "      <th>Age</th>\n",
       "      <th>Annual Income (k$)</th>\n",
       "      <th>Spending Score (1-100)</th>\n",
       "    </tr>\n",
       "  </thead>\n",
       "  <tbody>\n",
       "    <tr>\n",
       "      <th>0</th>\n",
       "      <td>1</td>\n",
       "      <td>1</td>\n",
       "      <td>-1.424569</td>\n",
       "      <td>-1.738999</td>\n",
       "      <td>-0.434801</td>\n",
       "    </tr>\n",
       "    <tr>\n",
       "      <th>1</th>\n",
       "      <td>2</td>\n",
       "      <td>1</td>\n",
       "      <td>-1.281035</td>\n",
       "      <td>-1.738999</td>\n",
       "      <td>1.195704</td>\n",
       "    </tr>\n",
       "    <tr>\n",
       "      <th>2</th>\n",
       "      <td>3</td>\n",
       "      <td>0</td>\n",
       "      <td>-1.352802</td>\n",
       "      <td>-1.700830</td>\n",
       "      <td>-1.715913</td>\n",
       "    </tr>\n",
       "    <tr>\n",
       "      <th>3</th>\n",
       "      <td>4</td>\n",
       "      <td>0</td>\n",
       "      <td>-1.137502</td>\n",
       "      <td>-1.700830</td>\n",
       "      <td>1.040418</td>\n",
       "    </tr>\n",
       "    <tr>\n",
       "      <th>4</th>\n",
       "      <td>5</td>\n",
       "      <td>0</td>\n",
       "      <td>-0.563369</td>\n",
       "      <td>-1.662660</td>\n",
       "      <td>-0.395980</td>\n",
       "    </tr>\n",
       "  </tbody>\n",
       "</table>\n",
       "</div>"
      ],
      "text/plain": [
       "   CustomerID  Gender       Age  Annual Income (k$)  Spending Score (1-100)\n",
       "0           1       1 -1.424569           -1.738999               -0.434801\n",
       "1           2       1 -1.281035           -1.738999                1.195704\n",
       "2           3       0 -1.352802           -1.700830               -1.715913\n",
       "3           4       0 -1.137502           -1.700830                1.040418\n",
       "4           5       0 -0.563369           -1.662660               -0.395980"
      ]
     },
     "execution_count": 3,
     "metadata": {},
     "output_type": "execute_result"
    }
   ],
   "source": [
    "from sklearn.preprocessing import LabelEncoder, StandardScaler\n",
    "\n",
    "# Encode the 'Gender' column\n",
    "label_encoder = LabelEncoder()\n",
    "mall_customers['Gender'] = label_encoder.fit_transform(mall_customers['Gender'])\n",
    "\n",
    "# Features to scale: Age, Annual Income, Spending Score\n",
    "features_to_scale = ['Age', 'Annual Income (k$)', 'Spending Score (1-100)']\n",
    "scaler = StandardScaler()\n",
    "mall_customers[features_to_scale] = scaler.fit_transform(mall_customers[features_to_scale])\n",
    "\n",
    "# Check the first few rows to verify changes\n",
    "prepared_data_head = mall_customers.head()\n",
    "\n",
    "prepared_data_head\n"
   ]
  },
  {
   "cell_type": "markdown",
   "metadata": {},
   "source": [
    "The data preparation steps have been completed:\n",
    "\n",
    "The Gender variable has been encoded as binary, with values 0 and 1.\n",
    "The Age, Annual Income (k$), and Spending Score (1-100) features have been scaled to have mean 0 and standard deviation 1, which is standard practice for clustering algorithms to ensure equal weighting of features.\n",
    "4. Modeling\n",
    "For the modeling phase, we'll use a clustering algorithm to segment the customers. The K-Means algorithm is a popular choice for clustering because it's straightforward and efficient. However, selecting the optimal number of clusters (k) is crucial for obtaining meaningful clusters.\n",
    "\n",
    "We can use the Elbow Method to determine the optimal number of clusters by fitting the K-Means algorithm with a range of k values and plotting the Sum of Squared Distances (SSD) for each. The \"elbow\" point, where the rate of decrease sharply changes, can be considered an optimal value for k.\n",
    "\n",
    "Do you want me to proceed with determining the optimal number of clusters using the Elbow Method? \n",
    "\n",
    "Prompt: Yes."
   ]
  },
  {
   "cell_type": "code",
   "execution_count": 4,
   "metadata": {},
   "outputs": [
    {
     "name": "stderr",
     "output_type": "stream",
     "text": [
      "c:\\Users\\youse\\anaconda3\\lib\\site-packages\\sklearn\\cluster\\_kmeans.py:881: UserWarning: KMeans is known to have a memory leak on Windows with MKL, when there are less chunks than available threads. You can avoid it by setting the environment variable OMP_NUM_THREADS=1.\n",
      "  warnings.warn(\n"
     ]
    },
    {
     "data": {
      "image/png": "[encoded data removed]",
      "text/plain": [
       "<Figure size 720x432 with 1 Axes>"
      ]
     },
     "metadata": {
      "needs_background": "light"
     },
     "output_type": "display_data"
    }
   ],
   "source": [
    "from sklearn.cluster import KMeans\n",
    "import matplotlib.pyplot as plt\n",
    "\n",
    "# Prepare features for clustering (excluding CustomerID)\n",
    "features = mall_customers.drop(['CustomerID'], axis=1)\n",
    "\n",
    "# Determine the optimal number of clusters using the Elbow Method\n",
    "ssd = []\n",
    "range_n_clusters = range(1, 11)\n",
    "for num_clusters in range_n_clusters:\n",
    "    kmeans = KMeans(n_clusters=num_clusters, random_state=42)\n",
    "    kmeans.fit(features)\n",
    "    ssd.append(kmeans.inertia_)\n",
    "\n",
    "# Plotting the SSD for each number of clusters\n",
    "plt.figure(figsize=(10, 6))\n",
    "plt.plot(range_n_clusters, ssd, 'bo-', markeredgecolor='red')\n",
    "plt.title('Elbow Method for Determining Optimal Number of Clusters')\n",
    "plt.xlabel('Number of Clusters')\n",
    "plt.ylabel('Sum of Squared Distances (SSD)')\n",
    "plt.grid(True)\n",
    "plt.show()\n"
   ]
  },
  {
   "cell_type": "markdown",
   "metadata": {},
   "source": [
    "The Elbow Method plot shows the Sum of Squared Distances (SSD) for different numbers of clusters. To determine the optimal number of clusters, we look for the \"elbow\" point where the rate of decrease in SSD becomes less pronounced.\n",
    "\n",
    "Based on the plot, the elbow point appears to be around 5 clusters, as the slope of the line decreases significantly after this point. This suggests that 5 might be a reasonable choice for the number of clusters to use for segmenting the mall customers.\n",
    "\n",
    "5. Evaluation\n",
    "With the optimal number of clusters identified as 5, we would proceed by fitting the K-Means algorithm with this number of clusters and then evaluate the results to understand the characteristics of each cluster. This could involve analyzing the centroids of each cluster to interpret the defining characteristics of the cluster's members.\n",
    "\n",
    "Do you want me to proceed with clustering the data into 5 clusters and evaluating the results?\n",
    "\n",
    "Prompt: Yes."
   ]
  },
  {
   "cell_type": "code",
   "execution_count": 5,
   "metadata": {},
   "outputs": [
    {
     "data": {
      "text/html": [
       "<div>\n",
       "<style scoped>\n",
       "    .dataframe tbody tr th:only-of-type {\n",
       "        vertical-align: middle;\n",
       "    }\n",
       "\n",
       "    .dataframe tbody tr th {\n",
       "        vertical-align: top;\n",
       "    }\n",
       "\n",
       "    .dataframe thead th {\n",
       "        text-align: right;\n",
       "    }\n",
       "</style>\n",
       "<table border=\"1\" class=\"dataframe\">\n",
       "  <thead>\n",
       "    <tr style=\"text-align: right;\">\n",
       "      <th></th>\n",
       "      <th>Age</th>\n",
       "      <th>Annual Income (k$)</th>\n",
       "      <th>Spending Score (1-100)</th>\n",
       "      <th>Cluster</th>\n",
       "      <th>Count</th>\n",
       "    </tr>\n",
       "  </thead>\n",
       "  <tbody>\n",
       "    <tr>\n",
       "      <th>0</th>\n",
       "      <td>25.272727</td>\n",
       "      <td>25.727273</td>\n",
       "      <td>79.363636</td>\n",
       "      <td>0</td>\n",
       "      <td>22</td>\n",
       "    </tr>\n",
       "    <tr>\n",
       "      <th>1</th>\n",
       "      <td>55.551724</td>\n",
       "      <td>48.482759</td>\n",
       "      <td>41.775862</td>\n",
       "      <td>1</td>\n",
       "      <td>58</td>\n",
       "    </tr>\n",
       "    <tr>\n",
       "      <th>2</th>\n",
       "      <td>41.264706</td>\n",
       "      <td>88.500000</td>\n",
       "      <td>16.764706</td>\n",
       "      <td>2</td>\n",
       "      <td>34</td>\n",
       "    </tr>\n",
       "    <tr>\n",
       "      <th>3</th>\n",
       "      <td>27.957447</td>\n",
       "      <td>50.000000</td>\n",
       "      <td>44.638298</td>\n",
       "      <td>3</td>\n",
       "      <td>47</td>\n",
       "    </tr>\n",
       "    <tr>\n",
       "      <th>4</th>\n",
       "      <td>32.692308</td>\n",
       "      <td>86.538462</td>\n",
       "      <td>82.128205</td>\n",
       "      <td>4</td>\n",
       "      <td>39</td>\n",
       "    </tr>\n",
       "  </tbody>\n",
       "</table>\n",
       "</div>"
      ],
      "text/plain": [
       "         Age  Annual Income (k$)  Spending Score (1-100)  Cluster  Count\n",
       "0  25.272727           25.727273               79.363636        0     22\n",
       "1  55.551724           48.482759               41.775862        1     58\n",
       "2  41.264706           88.500000               16.764706        2     34\n",
       "3  27.957447           50.000000               44.638298        3     47\n",
       "4  32.692308           86.538462               82.128205        4     39"
      ]
     },
     "execution_count": 5,
     "metadata": {},
     "output_type": "execute_result"
    }
   ],
   "source": [
    "# Fit K-Means with the optimal number of clusters (5)\n",
    "kmeans_optimal = KMeans(n_clusters=5, random_state=42)\n",
    "mall_customers['Cluster'] = kmeans_optimal.fit_predict(features)\n",
    "\n",
    "# Analyze the centroids of each cluster\n",
    "cluster_centers = pd.DataFrame(scaler.inverse_transform(kmeans_optimal.cluster_centers_[:, 1:]),\n",
    "                               columns=['Age', 'Annual Income (k$)', 'Spending Score (1-100)'])\n",
    "\n",
    "# Add cluster labels to the centroids\n",
    "cluster_centers['Cluster'] = range(0, 5)\n",
    "\n",
    "# Count of customers in each cluster\n",
    "cluster_counts = mall_customers['Cluster'].value_counts().reset_index()\n",
    "cluster_counts.columns = ['Cluster', 'Count']\n",
    "\n",
    "# Combine centroid information with counts\n",
    "cluster_analysis = pd.merge(cluster_centers, cluster_counts, on='Cluster')\n",
    "\n",
    "cluster_analysis\n"
   ]
  },
  {
   "cell_type": "markdown",
   "metadata": {},
   "source": [
    "The clustering resulted in 5 distinct clusters with the following characteristics based on the average values of their features:\n",
    "\n",
    "Cluster 0: Young customers with low annual income but high spending scores.\n",
    "\n",
    "Age: ~25 years\n",
    "Annual Income: ~$25.7k\n",
    "Spending Score: ~79\n",
    "Count: 22\n",
    "Cluster 1: Older customers with moderate annual income and moderate spending scores.\n",
    "\n",
    "Age: ~56 years\n",
    "Annual Income: ~$48.5k\n",
    "Spending Score: ~42\n",
    "Count: 58\n",
    "Cluster 2: Middle-aged customers with high annual income but low spending scores.\n",
    "\n",
    "Age: ~41 years\n",
    "Annual Income: ~$88.5k\n",
    "Spending Score: ~17\n",
    "Count: 34\n",
    "Cluster 3: Young to middle-aged customers with moderate annual income and moderate spending scores.\n",
    "\n",
    "Age: ~28 years\n",
    "Annual Income: ~$50k\n",
    "Spending Score: ~45\n",
    "Count: 47\n",
    "Cluster 4: Young to middle-aged customers with high annual income and high spending scores.\n",
    "\n",
    "Age: ~33 years\n",
    "Annual Income: ~$86.5k\n",
    "Spending Score: ~82\n",
    "Count: 39\n",
    "These clusters suggest distinct segments of mall customers based on their age, annual income, and spending behavior. This segmentation can be used for targeted marketing strategies, personalized offers, and improving customer service by understanding the different needs and behaviors of each cluster.\n",
    "\n",
    "Would you like to explore further or need assistance with any other aspect of your analysis?"
   ]
  },
  {
   "cell_type": "markdown",
   "metadata": {},
   "source": [
    "Evaluate the model performance.\n",
    "\n",
    "\n",
    "To evaluate the performance of the clustering model, especially when the true labels are not known, we typically use internal metrics that measure the quality of the clustering. For K-Means, two common metrics are:\n",
    "\n",
    "Silhouette Score: Measures how similar an object is to its own cluster compared to other clusters. The Silhouette Score ranges from -1 to 1, where a high value indicates that the object is well matched to its own cluster and poorly matched to neighboring clusters. If the score is close to 1, the clustering configuration is good.\n",
    "\n",
    "Calinski-Harabasz Index: Also known as the Variance Ratio Criterion. It is the ratio of the sum of between-clusters dispersion and of inter-cluster dispersion for all clusters. The higher the score, the better the model has done for distinguishing between clusters.\n",
    "\n",
    "Let's compute these metrics for our clustering model to evaluate its performance."
   ]
  },
  {
   "cell_type": "code",
   "execution_count": 6,
   "metadata": {},
   "outputs": [
    {
     "data": {
      "text/plain": [
       "(0.34977050035201074, 97.25832335913094)"
      ]
     },
     "execution_count": 6,
     "metadata": {},
     "output_type": "execute_result"
    }
   ],
   "source": [
    "from sklearn.metrics import silhouette_score, calinski_harabasz_score\n",
    "\n",
    "# Extract the feature set for evaluation\n",
    "X = features\n",
    "\n",
    "# Predicted cluster labels\n",
    "labels = mall_customers['Cluster']\n",
    "\n",
    "# Silhouette Score\n",
    "silhouette_avg = silhouette_score(X, labels)\n",
    "\n",
    "# Calinski-Harabasz Index\n",
    "calinski_harabasz_avg = calinski_harabasz_score(X, labels)\n",
    "\n",
    "silhouette_avg, calinski_harabasz_avg\n"
   ]
  },
  {
   "cell_type": "markdown",
   "metadata": {},
   "source": [
    "The evaluation metrics for the clustering model are as follows:\n",
    "\n",
    "Silhouette Score: 0.35\n",
    "Calinski-Harabasz Index: 97.26\n",
    "The Silhouette Score of 0.35 suggests that, on average, clusters are farther apart and more distinct than a lower score would indicate, but there's still room for improvement as the score is not close to 1.\n",
    "\n",
    "The Calinski-Harabasz Index of 97.26 indicates that the clusters are relatively well separated and dense, which is a sign of a good clustering structure, given that higher values are desirable.\n",
    "\n",
    "These metrics suggest that the clustering has performed reasonably well in separating the customers into distinct groups, though there might be opportunities for further improvement, possibly by experimenting with different numbers of clusters or preprocessing steps.\n",
    "\n",
    "Would you like to explore any other aspects of this analysis or have any further questions?"
   ]
  }
 ],
 "metadata": {
  "kernelspec": {
   "display_name": "base",
   "language": "python",
   "name": "python3"
  },
  "language_info": {
   "codemirror_mode": {
    "name": "ipython",
    "version": 3
   },
   "file_extension": ".py",
   "mimetype": "text/x-python",
   "name": "python",
   "nbconvert_exporter": "python",
   "pygments_lexer": "ipython3",
   "version": "3.9.7"
  }
 },
 "nbformat": 4,
 "nbformat_minor": 2
}
